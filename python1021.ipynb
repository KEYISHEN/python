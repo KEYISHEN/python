{
  "nbformat": 4,
  "nbformat_minor": 0,
  "metadata": {
    "colab": {
      "name": "python1021.ipynb",
      "provenance": [],
      "collapsed_sections": [],
      "include_colab_link": true
    },
    "kernelspec": {
      "name": "python3",
      "display_name": "Python 3"
    }
  },
  "cells": [
    {
      "cell_type": "markdown",
      "metadata": {
        "id": "view-in-github",
        "colab_type": "text"
      },
      "source": [
        "<a href=\"https://colab.research.google.com/github/KEYISHEN/python/blob/master/python1021.ipynb\" target=\"_parent\"><img src=\"https://colab.research.google.com/assets/colab-badge.svg\" alt=\"Open In Colab\"/></a>"
      ]
    },
    {
      "cell_type": "code",
      "metadata": {
        "id": "O1v76gJM5nXy",
        "colab_type": "code",
        "outputId": "384dfb56-f170-47de-e723-7862740a97fe",
        "colab": {
          "base_uri": "https://localhost:8080/",
          "height": 34
        }
      },
      "source": [
        "print(\"hello!\")"
      ],
      "execution_count": 0,
      "outputs": [
        {
          "output_type": "stream",
          "text": [
            "hello!\n"
          ],
          "name": "stdout"
        }
      ]
    },
    {
      "cell_type": "code",
      "metadata": {
        "id": "uUNtD9eG5squ",
        "colab_type": "code",
        "outputId": "e3d77d6b-964e-497f-86ec-b5951ee10e75",
        "colab": {
          "base_uri": "https://localhost:8080/",
          "height": 34
        }
      },
      "source": [
        "print(3*2*(17-2.1))"
      ],
      "execution_count": 0,
      "outputs": [
        {
          "output_type": "stream",
          "text": [
            "89.4\n"
          ],
          "name": "stdout"
        }
      ]
    },
    {
      "cell_type": "markdown",
      "metadata": {
        "id": "0hDNvXTT8H7h",
        "colab_type": "text"
      },
      "source": [
        "# 要記得縮排  不然會錯誤"
      ]
    },
    {
      "cell_type": "code",
      "metadata": {
        "id": "W9P_68ys2SAr",
        "colab_type": "code",
        "outputId": "be02c295-decd-4665-dda5-282c804f669b",
        "colab": {
          "base_uri": "https://localhost:8080/",
          "height": 51
        }
      },
      "source": [
        "for name in ['orange', 'apple']:\n",
        "  print(name)"
      ],
      "execution_count": 0,
      "outputs": [
        {
          "output_type": "stream",
          "text": [
            "orange\n",
            "apple\n"
          ],
          "name": "stdout"
        }
      ]
    },
    {
      "cell_type": "code",
      "metadata": {
        "id": "dzt_ny7o3hYP",
        "colab_type": "code",
        "colab": {}
      },
      "source": [
        "for index in range(0, 6):\n",
        "\tprint(index)\n"
      ],
      "execution_count": 0,
      "outputs": []
    },
    {
      "cell_type": "markdown",
      "metadata": {
        "id": "k4U9nCwr853j",
        "colab_type": "text"
      },
      "source": [
        "# 雙引號文字要看仔細"
      ]
    },
    {
      "cell_type": "code",
      "metadata": {
        "id": "IgZdz7xa6bNH",
        "colab_type": "code",
        "outputId": "4024bae3-f26e-4f15-e920-a8049cfb814c",
        "colab": {
          "base_uri": "https://localhost:8080/",
          "height": 34
        }
      },
      "source": [
        "print(\"abc\"\"+\"\"def\")"
      ],
      "execution_count": 0,
      "outputs": [
        {
          "output_type": "stream",
          "text": [
            "abc+def\n"
          ],
          "name": "stdout"
        }
      ]
    },
    {
      "cell_type": "markdown",
      "metadata": {
        "id": "0csyF7T59KCo",
        "colab_type": "text"
      },
      "source": [
        "# replace=取代"
      ]
    },
    {
      "cell_type": "code",
      "metadata": {
        "id": "ZS0bQUzC9Ba7",
        "colab_type": "code",
        "outputId": "b9b2e553-3e0a-474c-e83f-17fc8a1efe37",
        "colab": {
          "base_uri": "https://localhost:8080/",
          "height": 34
        }
      },
      "source": [
        "word = \"art\"\n",
        "print(word.replace(\"r\", \"n\"))"
      ],
      "execution_count": 0,
      "outputs": [
        {
          "output_type": "stream",
          "text": [
            "ant\n"
          ],
          "name": "stdout"
        }
      ]
    },
    {
      "cell_type": "markdown",
      "metadata": {
        "id": "7T0pUoc7I5iq",
        "colab_type": "text"
      },
      "source": [
        "# 3是從左邊取代幾次"
      ]
    },
    {
      "cell_type": "code",
      "metadata": {
        "id": "etAdKwAi_THh",
        "colab_type": "code",
        "outputId": "bafcc191-edd9-4167-b474-42cdc827cd3b",
        "colab": {
          "base_uri": "https://localhost:8080/",
          "height": 34
        }
      },
      "source": [
        "word = \"arttarataaa\"\n",
        "print(word.replace(\"a\", \"z\",3))"
      ],
      "execution_count": 0,
      "outputs": [
        {
          "output_type": "stream",
          "text": [
            "zrttzrztaaa\n"
          ],
          "name": "stdout"
        }
      ]
    },
    {
      "cell_type": "code",
      "metadata": {
        "id": "n4h8rLScDQ2b",
        "colab_type": "code",
        "colab": {}
      },
      "source": [
        "sum =0\n",
        "for x in range(1,101,):\n",
        "  sum =sum + x\n",
        "  print(sum)"
      ],
      "execution_count": 0,
      "outputs": []
    },
    {
      "cell_type": "code",
      "metadata": {
        "id": "twTbXo6AFP4C",
        "colab_type": "code",
        "colab": {}
      },
      "source": [
        "sum =0\n",
        "for x in range(1,101,2):\n",
        "  sum =sum + x\n",
        "  print(sum)"
      ],
      "execution_count": 0,
      "outputs": []
    },
    {
      "cell_type": "markdown",
      "metadata": {
        "id": "Zz_E3RVNIxYa",
        "colab_type": "text"
      },
      "source": [
        "# 下面是乘"
      ]
    },
    {
      "cell_type": "code",
      "metadata": {
        "id": "MRJb-X-OH-Xt",
        "colab_type": "code",
        "colab": {}
      },
      "source": [
        "total=1\n",
        "for x in range(1,101,2):\n",
        "  total *=x\n",
        "  print(total)"
      ],
      "execution_count": 0,
      "outputs": []
    },
    {
      "cell_type": "code",
      "metadata": {
        "id": "bJy-HaamJgJu",
        "colab_type": "code",
        "colab": {}
      },
      "source": [
        "index = 0\n",
        "\n",
        "while index < 1:\n",
        "  print(\"hello,koi\")"
      ],
      "execution_count": 0,
      "outputs": []
    },
    {
      "cell_type": "code",
      "metadata": {
        "id": "DY47jyyROCPc",
        "colab_type": "code",
        "colab": {
          "base_uri": "https://localhost:8080/",
          "height": 52
        },
        "outputId": "9243a2d5-d0b3-4bb6-f123-4f952594a575"
      },
      "source": [
        "names = ['Christopher','Susan']\n",
        "index = 0\n",
        "while index < len(names):\n",
        "  print(names[index])\n",
        "  #change the condition!!\n",
        "  index = index + 1"
      ],
      "execution_count": 53,
      "outputs": [
        {
          "output_type": "stream",
          "text": [
            "Christopher\n",
            "Susan\n"
          ],
          "name": "stdout"
        }
      ]
    },
    {
      "cell_type": "code",
      "metadata": {
        "id": "IBtV8rgmOuSL",
        "colab_type": "code",
        "colab": {
          "base_uri": "https://localhost:8080/",
          "height": 34
        },
        "outputId": "1c2616d7-c488-4d76-aab2-605c3af3b4cc"
      },
      "source": [
        "sum = 0\n",
        "x=0\n",
        "while sum <=101:\n",
        "  sum = sum + x\n",
        "  x = x + 1\n",
        "print(sum)\n",
        "  #change the condition!!\n",
        "  "
      ],
      "execution_count": 83,
      "outputs": [
        {
          "output_type": "stream",
          "text": [
            "105\n"
          ],
          "name": "stdout"
        }
      ]
    },
    {
      "cell_type": "code",
      "metadata": {
        "id": "ylOHXP6ASFf0",
        "colab_type": "code",
        "colab": {
          "base_uri": "https://localhost:8080/",
          "height": 34
        },
        "outputId": "67c1d2bb-3636-47ee-a94b-3219a017abb4"
      },
      "source": [
        "sum = 0\n",
        "i = 0\t\t\t\n",
        "while i <= 100:\t\t\n",
        "    sum = sum + i\n",
        "    i = i + 1\t\t\t\n",
        "print(sum)"
      ],
      "execution_count": 90,
      "outputs": [
        {
          "output_type": "stream",
          "text": [
            "5050\n"
          ],
          "name": "stdout"
        }
      ]
    },
    {
      "cell_type": "code",
      "metadata": {
        "id": "avsGz5S1Uk6H",
        "colab_type": "code",
        "colab": {
          "base_uri": "https://localhost:8080/",
          "height": 34
        },
        "outputId": "4359e528-5cad-4b37-f8a3-320ec95013ae"
      },
      "source": [
        "sum = 0\n",
        "i = 0\t\t\t\n",
        "while i <= 100:\t\t\n",
        "    sum = sum + i\n",
        "    i = i + 2\t\t\t\n",
        "print(sum)"
      ],
      "execution_count": 100,
      "outputs": [
        {
          "output_type": "stream",
          "text": [
            "2550\n"
          ],
          "name": "stdout"
        }
      ]
    },
    {
      "cell_type": "code",
      "metadata": {
        "id": "9Iop4PMBWSmE",
        "colab_type": "code",
        "colab": {
          "base_uri": "https://localhost:8080/",
          "height": 34
        },
        "outputId": "7ae1a52e-2820-4231-861a-add24db8a86e"
      },
      "source": [
        "total = 1\n",
        "x=1\n",
        "\n",
        "while x < 101:\n",
        "  total *=x\n",
        "  x = x+2     # x += 2\n",
        "  \n",
        "print(total)"
      ],
      "execution_count": 103,
      "outputs": [
        {
          "output_type": "stream",
          "text": [
            "2725392139750729502980713245400918633290796330545803413734328823443106201171875\n"
          ],
          "name": "stdout"
        }
      ]
    },
    {
      "cell_type": "markdown",
      "metadata": {
        "id": "TeclXJFQZ-yA",
        "colab_type": "text"
      },
      "source": [
        "# 六題作業"
      ]
    },
    {
      "cell_type": "code",
      "metadata": {
        "id": "sMztT6zRZ0ae",
        "colab_type": "code",
        "colab": {}
      },
      "source": [
        "sum=0\n",
        "\n",
        "for x in range(1,101):\n",
        "  sum +=x\n",
        "  \n",
        "print(sum)"
      ],
      "execution_count": 0,
      "outputs": []
    },
    {
      "cell_type": "code",
      "metadata": {
        "id": "NtTV1c6JZ2Pl",
        "colab_type": "code",
        "colab": {}
      },
      "source": [
        "sum=0\n",
        "\n",
        "for x in range(1,101,2):\n",
        "  sum +=x\n",
        "  \n",
        "print(sum)"
      ],
      "execution_count": 0,
      "outputs": []
    },
    {
      "cell_type": "code",
      "metadata": {
        "id": "gO-Tn2FgZ4E1",
        "colab_type": "code",
        "colab": {}
      },
      "source": [
        "total=1\n",
        "\n",
        "for x in range(1,101,2):\n",
        "  total *=x\n",
        "  \n",
        "print(total)"
      ],
      "execution_count": 0,
      "outputs": []
    },
    {
      "cell_type": "code",
      "metadata": {
        "id": "dhM4H5IcZ5mV",
        "colab_type": "code",
        "colab": {}
      },
      "source": [
        "sum = 0\n",
        "x=1\n",
        "\n",
        "while x < 101:\n",
        "  sum +=x\n",
        "  x = x+1\n",
        "  # x += 1\n",
        "  \n",
        "print(sum)"
      ],
      "execution_count": 0,
      "outputs": []
    },
    {
      "cell_type": "code",
      "metadata": {
        "id": "ZA22w4ffZ74F",
        "colab_type": "code",
        "colab": {}
      },
      "source": [
        "sum = 0\n",
        "x=1\n",
        "\n",
        "while x < 101:\n",
        "  sum +=x\n",
        "  x = x+2\n",
        "  # x += 1\n",
        "  \n",
        "print(sum)"
      ],
      "execution_count": 0,
      "outputs": []
    },
    {
      "cell_type": "code",
      "metadata": {
        "id": "GDCl8NssZ80F",
        "colab_type": "code",
        "colab": {}
      },
      "source": [
        "total = 1\n",
        "x=1\n",
        "\n",
        "while x < 101:\n",
        "  total *=x\n",
        "  x = x+2     # x += 2\n",
        "  \n",
        "print(total)"
      ],
      "execution_count": 0,
      "outputs": []
    }
  ]
}